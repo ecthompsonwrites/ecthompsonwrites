{
 "cells": [
  {
   "cell_type": "code",
   "execution_count": 1,
   "id": "dd0dd278",
   "metadata": {},
   "outputs": [],
   "source": [
    "#getting connected to the twitter api\n",
    "import tweepy\n",
    "import webbrowser\n",
    "import time"
   ]
  },
  {
   "cell_type": "code",
   "execution_count": 2,
   "id": "8393145d",
   "metadata": {},
   "outputs": [],
   "source": [
    "consumer_key = \"\"\n",
    "consumer_secret = \"\""
   ]
  },
  {
   "cell_type": "code",
   "execution_count": 3,
   "id": "15914f12",
   "metadata": {},
   "outputs": [],
   "source": [
    "callback_uri = \"oob\""
   ]
  },
  {
   "cell_type": "code",
   "execution_count": 4,
   "id": "2f36eba3",
   "metadata": {},
   "outputs": [],
   "source": [
    "auth = tweepy.OAuthHandler(consumer_key, consumer_secret, callback_uri)"
   ]
  },
  {
   "cell_type": "code",
   "execution_count": 5,
   "id": "5ddf0cae",
   "metadata": {},
   "outputs": [],
   "source": [
    "redirect_url = auth.get_authorization_url()"
   ]
  },
  {
   "cell_type": "code",
   "execution_count": 6,
   "id": "61dd8aee",
   "metadata": {},
   "outputs": [
    {
     "data": {
      "text/plain": [
       "True"
      ]
     },
     "execution_count": 6,
     "metadata": {},
     "output_type": "execute_result"
    }
   ],
   "source": [
    "webbrowser.open(redirect_url)"
   ]
  },
  {
   "cell_type": "code",
   "execution_count": 7,
   "id": "2fa5a358",
   "metadata": {},
   "outputs": [
    {
     "name": "stdout",
     "output_type": "stream",
     "text": [
      "What's the pin value? \n"
     ]
    }
   ],
   "source": [
    "user_pin_input = input(\"What's the pin value? \") #this will change"
   ]
  },
  {
   "cell_type": "code",
   "execution_count": 8,
   "id": "bad984b2",
   "metadata": {},
   "outputs": [
    {
     "data": {
      "text/plain": [
       "''"
      ]
     },
     "execution_count": 8,
     "metadata": {},
     "output_type": "execute_result"
    }
   ],
   "source": [
    "user_pin_input"
   ]
  },
  {
   "cell_type": "code",
   "execution_count": 9,
   "id": "fb02677c",
   "metadata": {},
   "outputs": [
    {
     "data": {
      "text/plain": [
       "('',\n",
       " '')"
      ]
     },
     "execution_count": 9,
     "metadata": {},
     "output_type": "execute_result"
    }
   ],
   "source": [
    "auth.get_access_token(user_pin_input) #access keys for this account"
   ]
  },
  {
   "cell_type": "code",
   "execution_count": 18,
   "id": "6da8220f",
   "metadata": {},
   "outputs": [],
   "source": [
    "api = tweepy.API(auth, wait_on_rate_limit = True) #now access to everything in tweepy API"
   ]
  },
  {
   "cell_type": "code",
   "execution_count": 11,
   "id": "06deb6f3",
   "metadata": {},
   "outputs": [],
   "source": [
    "me = api.verify_credentials()"
   ]
  },
  {
   "cell_type": "code",
   "execution_count": 12,
   "id": "add57a51",
   "metadata": {},
   "outputs": [
    {
     "name": "stdout",
     "output_type": "stream",
     "text": [
      "by_ethompson\n"
     ]
    }
   ],
   "source": [
    "print(me.screen_name)\n",
    "#all set up now!"
   ]
  },
  {
   "cell_type": "code",
   "execution_count": 14,
   "id": "83aae70e",
   "metadata": {},
   "outputs": [],
   "source": [
    "import pandas as pd\n",
    "pd.set_option('display.float_format', lambda x: '%.f' % x)"
   ]
  },
  {
   "cell_type": "code",
   "execution_count": 15,
   "id": "c54e8952",
   "metadata": {},
   "outputs": [
    {
     "data": {
      "text/html": [
       "<div>\n",
       "<style scoped>\n",
       "    .dataframe tbody tr th:only-of-type {\n",
       "        vertical-align: middle;\n",
       "    }\n",
       "\n",
       "    .dataframe tbody tr th {\n",
       "        vertical-align: top;\n",
       "    }\n",
       "\n",
       "    .dataframe thead th {\n",
       "        text-align: right;\n",
       "    }\n",
       "</style>\n",
       "<table border=\"1\" class=\"dataframe\">\n",
       "  <thead>\n",
       "    <tr style=\"text-align: right;\">\n",
       "      <th></th>\n",
       "      <th>state</th>\n",
       "      <th>list name (copy and paste)</th>\n",
       "      <th>number</th>\n",
       "      <th>list link</th>\n",
       "      <th>Unnamed: 4</th>\n",
       "      <th>Unnamed: 5</th>\n",
       "      <th>Unnamed: 6</th>\n",
       "      <th>Unnamed: 7</th>\n",
       "      <th># of members</th>\n",
       "      <th>notes</th>\n",
       "    </tr>\n",
       "  </thead>\n",
       "  <tbody>\n",
       "    <tr>\n",
       "      <th>0</th>\n",
       "      <td>Alabama</td>\n",
       "      <td>AL News Network Team</td>\n",
       "      <td>”170315974”</td>\n",
       "      <td>https://twitter.com/i/lists/170315974</td>\n",
       "      <td>NaN</td>\n",
       "      <td>NaN</td>\n",
       "      <td>NaN</td>\n",
       "      <td>NaN</td>\n",
       "      <td>17</td>\n",
       "      <td>NaN</td>\n",
       "    </tr>\n",
       "    <tr>\n",
       "      <th>1</th>\n",
       "      <td>Alabama</td>\n",
       "      <td>AL Political Reporters</td>\n",
       "      <td>”101019052”</td>\n",
       "      <td>https://twitter.com/i/lists/101019052</td>\n",
       "      <td>NaN</td>\n",
       "      <td>NaN</td>\n",
       "      <td>NaN</td>\n",
       "      <td>NaN</td>\n",
       "      <td>38</td>\n",
       "      <td>NaN</td>\n",
       "    </tr>\n",
       "    <tr>\n",
       "      <th>2</th>\n",
       "      <td>Alabama</td>\n",
       "      <td>Local TV News Reporters</td>\n",
       "      <td>”745726587996352513”</td>\n",
       "      <td>https://twitter.com/i/lists/745726587996352513</td>\n",
       "      <td>NaN</td>\n",
       "      <td>NaN</td>\n",
       "      <td>NaN</td>\n",
       "      <td>NaN</td>\n",
       "      <td>60</td>\n",
       "      <td>NaN</td>\n",
       "    </tr>\n",
       "    <tr>\n",
       "      <th>3</th>\n",
       "      <td>Alabama</td>\n",
       "      <td>Alabama journalists</td>\n",
       "      <td>”26587996352513”</td>\n",
       "      <td>https://twitter.com/i/lists/983565428931805184</td>\n",
       "      <td>NaN</td>\n",
       "      <td>NaN</td>\n",
       "      <td>NaN</td>\n",
       "      <td>NaN</td>\n",
       "      <td>50</td>\n",
       "      <td>NaN</td>\n",
       "    </tr>\n",
       "    <tr>\n",
       "      <th>4</th>\n",
       "      <td>Alabama</td>\n",
       "      <td>Alabama News</td>\n",
       "      <td>”135485559”</td>\n",
       "      <td>https://twitter.com/i/lists/135485559</td>\n",
       "      <td>NaN</td>\n",
       "      <td>NaN</td>\n",
       "      <td>NaN</td>\n",
       "      <td>NaN</td>\n",
       "      <td>80</td>\n",
       "      <td>NaN</td>\n",
       "    </tr>\n",
       "    <tr>\n",
       "      <th>...</th>\n",
       "      <td>...</td>\n",
       "      <td>...</td>\n",
       "      <td>...</td>\n",
       "      <td>...</td>\n",
       "      <td>...</td>\n",
       "      <td>...</td>\n",
       "      <td>...</td>\n",
       "      <td>...</td>\n",
       "      <td>...</td>\n",
       "      <td>...</td>\n",
       "    </tr>\n",
       "    <tr>\n",
       "      <th>210</th>\n",
       "      <td>US</td>\n",
       "      <td>Women to be thankful for</td>\n",
       "      <td>”930927966212804608”</td>\n",
       "      <td>https://twitter.com/i/lists/930927966212804608</td>\n",
       "      <td>NaN</td>\n",
       "      <td>NaN</td>\n",
       "      <td>NaN</td>\n",
       "      <td>NaN</td>\n",
       "      <td>1,100</td>\n",
       "      <td>NaN</td>\n",
       "    </tr>\n",
       "    <tr>\n",
       "      <th>211</th>\n",
       "      <td>US</td>\n",
       "      <td>US Immigration Reporters</td>\n",
       "      <td>”967570371217166336”</td>\n",
       "      <td>https://twitter.com/i/lists/967570371217166336</td>\n",
       "      <td>NaN</td>\n",
       "      <td>NaN</td>\n",
       "      <td>NaN</td>\n",
       "      <td>NaN</td>\n",
       "      <td>245</td>\n",
       "      <td>NaN</td>\n",
       "    </tr>\n",
       "    <tr>\n",
       "      <th>212</th>\n",
       "      <td>Washington DC</td>\n",
       "      <td>DC News</td>\n",
       "      <td>”84940310”</td>\n",
       "      <td>https://twitter.com/i/lists/84940310</td>\n",
       "      <td>NaN</td>\n",
       "      <td>NaN</td>\n",
       "      <td>NaN</td>\n",
       "      <td>NaN</td>\n",
       "      <td>423</td>\n",
       "      <td>NaN</td>\n",
       "    </tr>\n",
       "    <tr>\n",
       "      <th>213</th>\n",
       "      <td>Washington DC</td>\n",
       "      <td>Fox 5</td>\n",
       "      <td>”91126954”</td>\n",
       "      <td>https://twitter.com/i/lists/91126954</td>\n",
       "      <td>NaN</td>\n",
       "      <td>NaN</td>\n",
       "      <td>NaN</td>\n",
       "      <td>NaN</td>\n",
       "      <td>84</td>\n",
       "      <td>NaN</td>\n",
       "    </tr>\n",
       "    <tr>\n",
       "      <th>214</th>\n",
       "      <td>DE/NY/NJ</td>\n",
       "      <td>Journalists</td>\n",
       "      <td>”55731869”</td>\n",
       "      <td>https://twitter.com/i/lists/55731869</td>\n",
       "      <td>NaN</td>\n",
       "      <td>NaN</td>\n",
       "      <td>NaN</td>\n",
       "      <td>NaN</td>\n",
       "      <td>1,100</td>\n",
       "      <td>US Today exec list</td>\n",
       "    </tr>\n",
       "  </tbody>\n",
       "</table>\n",
       "<p>215 rows × 10 columns</p>\n",
       "</div>"
      ],
      "text/plain": [
       "             state list name (copy and paste)                number  \\\n",
       "0          Alabama       AL News Network Team           ”170315974”   \n",
       "1          Alabama     AL Political Reporters           ”101019052”   \n",
       "2          Alabama    Local TV News Reporters  ”745726587996352513”   \n",
       "3          Alabama        Alabama journalists      ”26587996352513”   \n",
       "4          Alabama               Alabama News           ”135485559”   \n",
       "..             ...                        ...                   ...   \n",
       "210             US   Women to be thankful for  ”930927966212804608”   \n",
       "211             US   US Immigration Reporters  ”967570371217166336”   \n",
       "212  Washington DC                    DC News            ”84940310”   \n",
       "213  Washington DC                      Fox 5            ”91126954”   \n",
       "214       DE/NY/NJ                Journalists            ”55731869”   \n",
       "\n",
       "                                          list link  Unnamed: 4  Unnamed: 5  \\\n",
       "0             https://twitter.com/i/lists/170315974         NaN         NaN   \n",
       "1             https://twitter.com/i/lists/101019052         NaN         NaN   \n",
       "2    https://twitter.com/i/lists/745726587996352513         NaN         NaN   \n",
       "3    https://twitter.com/i/lists/983565428931805184         NaN         NaN   \n",
       "4             https://twitter.com/i/lists/135485559         NaN         NaN   \n",
       "..                                              ...         ...         ...   \n",
       "210  https://twitter.com/i/lists/930927966212804608         NaN         NaN   \n",
       "211  https://twitter.com/i/lists/967570371217166336         NaN         NaN   \n",
       "212            https://twitter.com/i/lists/84940310         NaN         NaN   \n",
       "213            https://twitter.com/i/lists/91126954         NaN         NaN   \n",
       "214            https://twitter.com/i/lists/55731869         NaN         NaN   \n",
       "\n",
       "     Unnamed: 6  Unnamed: 7 # of members               notes  \n",
       "0           NaN         NaN           17                 NaN  \n",
       "1           NaN         NaN           38                 NaN  \n",
       "2           NaN         NaN           60                 NaN  \n",
       "3           NaN         NaN           50                 NaN  \n",
       "4           NaN         NaN           80                 NaN  \n",
       "..          ...         ...          ...                 ...  \n",
       "210         NaN         NaN        1,100                 NaN  \n",
       "211         NaN         NaN          245                 NaN  \n",
       "212         NaN         NaN          423                 NaN  \n",
       "213         NaN         NaN           84                 NaN  \n",
       "214         NaN         NaN        1,100  US Today exec list  \n",
       "\n",
       "[215 rows x 10 columns]"
      ]
     },
     "execution_count": 15,
     "metadata": {},
     "output_type": "execute_result"
    }
   ],
   "source": [
    "twitter_lists = pd.read_csv(\"Local News Twitter Lists (2).csv\")\n",
    "twitter_lists"
   ]
  },
  {
   "cell_type": "code",
   "execution_count": 16,
   "id": "65cb70aa",
   "metadata": {},
   "outputs": [
    {
     "name": "stdout",
     "output_type": "stream",
     "text": [
      "['170315974', '101019052', '745726587996352513', '26587996352513', '135485559', '96578256', '896042580701478913', '52729268', '71767449', '1219678393656102914', '79598275', '44034290', '121061196', '416159', '4795383', '194938237', '42221269', '26360965', '1369070823080792064', '1502366499490525185', '1187132011061792768', '925452627785031680', '78530620', '232456069', '7953513', '2743818', '87147550', '78274077664567296', '88660067', '1101142081748185088', '24952023', '24951743', '1086041808205840384', '1828073', '36477018', '702552865525465088', '210409727', '15024361', '4058419', '209821208', '1215076788532957184', '71398890', '71399169', '42762261', '1240390476370509824', '1199442589243432960', '11252465', '1488675907501899778', '92731431', '222104', '847148344380043266', '73277670', '829385373155475456', '1293795972967849984', '74828858', '1105834', '42380138', '46619874', '65630680', '6602537', '20872868', '231806037', '1021853074552315904', '1323778470275665920', '34506389', '748173326330171394', '1277373210049286144', '7596128', '6883966', '82119960', '9814634', '102623326', '88216581', '135101895', '7178044', '55680274', '1395023132713525249', '1395023280004812803', '63706184', '61804804', '90516012', 'nan', 'nan', 'nan', 'nan', 'nan', 'nan', 'nan', '879762', '215130262', '1323367722407919624', '1036458493220478979', '1398977949064388616', '879351', '1835658', '1832026', '863750234782019585', '42351915', '58301370', '59574094', '185205800', '86578190', '2770421', '1041784836657168384', '2939542', '72921040', '2939658', '70067818', '55181455', '89853478', '7172489', '231969773', '76493452', '36549909', '43693326', '859089504715624448', '74786972', '1156939767885574145', '1581051877612986368', '10238149', '33601650', '80578115', '14126258', '91201083', '1174051324888924161', '86074671', '812136494559215616', '1332568828534951936', '62709303', '68428282', '31028841', '35209000', '205972', '2379011', '60119090', '891770846762500097', '1536757', 'nan', 'nan', 'nan', 'nan', 'nan', 'nan', 'nan', 'nan', 'nan', 'nan', 'nan', 'nan', 'nan', 'nan', 'nan', 'nan', 'nan', 'nan', 'nan', 'nan', 'nan', 'nan', 'nan', 'nan', 'nan', 'nan', 'nan', '167353513', 'nan', 'nan', 'nan', '95881429', '95887195', '198827633', '89476401', 'nan', 'nan', 'nan', 'nan', 'nan', 'nan', 'nan', '819336797666709504', 'nan', 'nan', 'nan', 'nan', '1206785313454116864', '1197353430941097984', 'nan', '120720502', 'nan', 'nan', '216797728', 'nan', 'nan', 'nan', 'nan', '344998', '1951005', 'nan', 'nan', 'nan', 'nan', 'nan', 'nan', 'nan', 'nan', 'nan', '234613344', '1387466324184604672', '842469727909883905', '935188341108166657', '930927966212804608', '967570371217166336', '84940310', '91126954', '55731869']\n"
     ]
    }
   ],
   "source": [
    "twitter_lists[\"number\"] = twitter_lists[\"number\"].astype(str)\n",
    "numbers = list(twitter_lists[\"number\"])\n",
    "numbers = [item.replace('”', '') for item in numbers]\n",
    "#numbers = [item.strip('\"') for item in numbers]\n",
    "print(numbers)"
   ]
  },
  {
   "cell_type": "code",
   "execution_count": 17,
   "id": "05bf2a57",
   "metadata": {},
   "outputs": [],
   "source": [
    "#this seems to work\n",
    "#for number in numbers[:3]:\n",
    " #  print(number)\n",
    "  #  members = api.get_list_members(list_id = number)\n",
    "  #  for member in tweepy.Cursor(api.get_list_members,list_id = number).items():\n",
    "     #  screen_name = member.screen_name\n",
    "     #  bio = member.description"
   ]
  },
  {
   "cell_type": "code",
   "execution_count": 26,
   "id": "14cde67b",
   "metadata": {},
   "outputs": [],
   "source": [
    "for number in numbers[:2]:\n",
    "    members = tweepy.Cursor(api.get_list_members,list_id = number).items()\n",
    "    tweet_df = {'screen_name': [member.screen_name for member in members],\n",
    "             'bio': [member.description for member in members]}"
   ]
  },
  {
   "cell_type": "code",
   "execution_count": null,
   "id": "3d3d76db",
   "metadata": {},
   "outputs": [],
   "source": [
    "journo_info.to_csv(\"journo_info.csv\", index = False)"
   ]
  },
  {
   "cell_type": "code",
   "execution_count": null,
   "id": "489764f5",
   "metadata": {},
   "outputs": [],
   "source": []
  }
 ],
 "metadata": {
  "kernelspec": {
   "display_name": "Python 3 (ipykernel)",
   "language": "python",
   "name": "python3"
  },
  "language_info": {
   "codemirror_mode": {
    "name": "ipython",
    "version": 3
   },
   "file_extension": ".py",
   "mimetype": "text/x-python",
   "name": "python",
   "nbconvert_exporter": "python",
   "pygments_lexer": "ipython3",
   "version": "3.9.12"
  }
 },
 "nbformat": 4,
 "nbformat_minor": 5
}
